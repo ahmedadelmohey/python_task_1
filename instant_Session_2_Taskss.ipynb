{
 "cells": [
  {
   "cell_type": "markdown",
   "metadata": {
    "id": "N8blBjfzqU6I"
   },
   "source": [
    "# Session 2 Tasks"
   ]
  },
  {
   "cell_type": "markdown",
   "metadata": {
    "id": "10XjML4cqZa4"
   },
   "source": [
    "1. Create 3 variables to store street, city and country, now create address variable to\n",
    "store entire address. Use two ways of creating this variable, one using + operator and the other using f-string.\n",
    "Now Print the address in such a way that the street, city and country prints in a separate line\n",
    "2. Create a variable to store the string \"Earth revolves around the sun\"\n",
    "    1. Print \"revolves\" using slice operator\n",
    "    2. Print \"sun\" using negative index\n",
    "3. Create two variables to store how many fruits and vegetables you eat in a day.\n",
    "Now Print \"I eat x veggies and y fruits daily\" where x and y presents vegetables and fruits that you eat everyday. Use python f string for this.\n",
    "4. I have a string variable called s='maine 200 banana khaye'. This of course is a\n",
    "wrong statement, the correct statement is 'maine 10 samosa khaye'.\n",
    "Replace incorrect words in original strong with new ones and print the new string.\n",
    "Also try to do this in one line.\n"
   ]
  },
  {
   "cell_type": "code",
   "execution_count": null,
   "metadata": {
    "id": "P4EUN6nuqUPf"
   },
   "outputs": [],
   "source": [
    "### 1\n",
    "street=input(\"Enter you street :\")\n",
    "city = input (\"Enter you city :\")\n",
    "country = input(\"Enter you country\")\n",
    "address = \"street \" + street +\"\\n\" + \"city \" + city +\"\\n\" + \"country \"+country\n",
    "print(address)\n",
    "address=f\"\"\"\n",
    "street {street}\n",
    "city {city}\n",
    "country {country}\n",
    "\"\"\"\n",
    "print(address)"
   ]
  },
  {
   "cell_type": "code",
   "execution_count": null,
   "metadata": {},
   "outputs": [],
   "source": [
    "### 2\n",
    "str=\"Earth revolves around the sun\"\n",
    "print(str[6:15])\n",
    "print(str[-3:])"
   ]
  },
  {
   "cell_type": "code",
   "execution_count": null,
   "metadata": {},
   "outputs": [],
   "source": [
    "### 3\n",
    "fruits = input(\"How many fruits do you eat in the day ?\")\n",
    "vegetables = input(\"How many vegetables you eat in the day ?\")\n",
    "print(f\"I eat {vegetables} veggies and {fruits} daily\")"
   ]
  },
  {
   "cell_type": "code",
   "execution_count": null,
   "metadata": {},
   "outputs": [],
   "source": [
    "### 4\n",
    "s='maine 200 banana khaye'\n",
    "new_s=s.replace(\"200\",\"10\")\n",
    "new_s=new_s.replace(\"banana\",\"samosa\")\n",
    "print(new_s)"
   ]
  },
  {
   "cell_type": "markdown",
   "metadata": {
    "id": "B98K3rbAqz7e"
   },
   "source": [
    "1. Let us say your expense for every month are listed below.\n",
    "\t  1. January -  2200\n",
    "    2. February - 2350\n",
    "    3. March - 2600\n",
    "    4. April - 2130\n",
    "    5. May - 2190\n",
    "\n",
    "Create a list to store these monthly expenses and using that find out,\n",
    "\n",
    "    1. In Feb, how many dollars you spent extra compare to January?\n",
    "    2. Find out your total expense in first quarter (first three months) of the year.\n",
    "    3. Find out if you spent exactly 2000 dollars in any month\n",
    "    4. June month just finished and your expense is 1980 dollar. Add this item to our monthly expense list\n",
    "    5. You returned an item that you bought in a month of April and\n",
    "    got a refund of 200$. Make a correction to your monthly expense list\n",
    "    based on this\n",
    "\n",
    "2. You have a list of your favourite marvel super heros.\n",
    "```\n",
    "heros=['spider man','thor','hulk','iron man','captain america']\n",
    "```\n",
    "\n",
    "Using this find out,\n",
    "\n",
    "    1. Length of the list\n",
    "    2. Add 'black panther' at the end of this list\n",
    "    3. You realize that you need to add 'black panther' after 'hulk',\n",
    "       so remove it from the list first and then add it after 'hulk'\n",
    "    4. Now you don't like thor and hulk because they get angry easily :)\n",
    "       So you want to remove thor and hulk from list and replace them with doctor strange (because he is cool).\n",
    "       Do that with one line of code.\n",
    "    5. Sort the heros list in alphabetical order (Hint. Use dir() functions to list down all functions available in list)\n",
    "\n",
    "\n",
    "\n",
    "\n"
   ]
  },
  {
   "cell_type": "code",
   "execution_count": null,
   "metadata": {
    "id": "vvus0ZOlrzJS"
   },
   "outputs": [],
   "source": [
    "expenses=[2200,2350,2600,2130,2190]\n",
    "print(f\"Dollars spent extra in Feb compare to jan is {expenses[1] - expenses [0]}\")\n",
    "####################\n",
    "print(f\"total expense in first quarter of the year {expenses[0] + expenses[1] + expenses [2]}\")\n",
    "######################\n",
    "for i in expenses:\n",
    "    if i==2000:\n",
    "        print (\"Spent exactly 2000$ in a month\")\n",
    "        break\n",
    "else:\n",
    "    print(\"haven't spent exactly 2000$ in any month\")\n",
    "##########################\n",
    "expenses.append(1980)\n",
    "##########################\n",
    "expenses[3]=expenses[3]+200\n",
    "print(\"Expenses after i got refund 200$ in April\",expenses)\n",
    "############################\n"
   ]
  },
  {
   "cell_type": "code",
   "execution_count": 41,
   "metadata": {},
   "outputs": [
    {
     "name": "stdout",
     "output_type": "stream",
     "text": [
      "5\n",
      "heros after adding black panther ['spider man', 'thor', 'hulk', 'iron man', 'captain america', 'black panther']\n",
      "heros after adding black panther after hulk ['spider man', 'thor', 'hulk', 'black panther', 'iron man', 'captain america']\n",
      "['spider man', 'Doctor Strange', 'black panther', 'iron man', 'captain america']\n"
     ]
    }
   ],
   "source": [
    "heros=['spider man','thor','hulk','iron man','captain america']\n",
    "print(len(heros))\n",
    "#######################\n",
    "heros.append(\"black panther\")\n",
    "print(\"heros after adding black panther\",heros)\n",
    "###############################\n",
    "heros.remove(\"black panther\")\n",
    "ind=heros.index(\"hulk\")\n",
    "heros.insert(ind+1,\"black panther\")\n",
    "print(\"heros after adding black panther after hulk\",heros)\n",
    "#########################################\n",
    "heros[1:3]=[\"Doctor Strange\"]\n",
    "print(heros)"
   ]
  },
  {
   "cell_type": "markdown",
   "metadata": {
    "id": "ojrpvhohrzgJ"
   },
   "source": [
    "Write a program that prints following shape\n",
    "\n",
    "```\n",
    "    *\n",
    "   ***\n",
    "  *****\n",
    " *******\n",
    "*********\n",
    " *******\n",
    "  *****\n",
    "   ***\n",
    "    *\n",
    "```\n",
    "\n"
   ]
  },
  {
   "cell_type": "code",
   "execution_count": 44,
   "metadata": {
    "id": "Ad-hutpdsCJ6"
   },
   "outputs": [
    {
     "name": "stdout",
     "output_type": "stream",
     "text": [
      "    *\n",
      "   ***\n",
      "  *****\n",
      " *******\n",
      "*********\n",
      " *******\n",
      "  *****\n",
      "   ***\n",
      "    *\n"
     ]
    }
   ],
   "source": [
    "n = 5\n",
    "i = 0\n",
    "while i < n:\n",
    "    j = 0\n",
    "    while j < n - i - 1:\n",
    "        print(\" \", end=\"\")\n",
    "        j += 1\n",
    "    j = 0\n",
    "    while j < 2 * i + 1:\n",
    "        print(\"*\", end=\"\")\n",
    "        j += 1\n",
    "    print()\n",
    "    i += 1\n",
    "\n",
    "i = n - 2\n",
    "while i >= 0:\n",
    "    j = 0\n",
    "    while j < n - i - 1:\n",
    "        print(\" \", end=\"\")\n",
    "        j += 1\n",
    "    j = 0\n",
    "    while j < 2 * i + 1:\n",
    "        print(\"*\", end=\"\")\n",
    "        j += 1\n",
    "    print()\n",
    "    i -= 1\n",
    "\n",
    "            \n",
    "        \n",
    "        "
   ]
  },
  {
   "cell_type": "code",
   "execution_count": null,
   "metadata": {},
   "outputs": [],
   "source": []
  }
 ],
 "metadata": {
  "colab": {
   "provenance": []
  },
  "kernelspec": {
   "display_name": "Python 3 (ipykernel)",
   "language": "python",
   "name": "python3"
  },
  "language_info": {
   "codemirror_mode": {
    "name": "ipython",
    "version": 3
   },
   "file_extension": ".py",
   "mimetype": "text/x-python",
   "name": "python",
   "nbconvert_exporter": "python",
   "pygments_lexer": "ipython3",
   "version": "3.9.12"
  }
 },
 "nbformat": 4,
 "nbformat_minor": 1
}
