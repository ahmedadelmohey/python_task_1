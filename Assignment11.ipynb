{
 "cells": [
  {
   "cell_type": "markdown",
   "id": "ff38aad7",
   "metadata": {},
   "source": [
    "### 1-Write a Python program that takes two numbers as user input and performs addition on them."
   ]
  },
  {
   "cell_type": "code",
   "execution_count": 1,
   "id": "91696b79",
   "metadata": {},
   "outputs": [
    {
     "name": "stdout",
     "output_type": "stream",
     "text": [
      "Enter the first number :10\n",
      "Enter the second number :20\n",
      "Addition is 30\n"
     ]
    }
   ],
   "source": [
    "num1=int(input(\"Enter the first number :\"))\n",
    "num2=int(input(\"Enter the second number :\"))\n",
    "print(f\"Addition is {num1+num2}\")"
   ]
  },
  {
   "cell_type": "markdown",
   "id": "360854ff",
   "metadata": {},
   "source": [
    "### 2-Write a Python program that takes an integer as input and checks if it is even or odd. Print \"Even\" if the number is divisible by 2, otherwise print \"Odd\"."
   ]
  },
  {
   "cell_type": "code",
   "execution_count": 3,
   "id": "ee4c35fe",
   "metadata": {
    "ExecuteTime": {
     "end_time": "2023-07-23T21:35:24.351946Z",
     "start_time": "2023-07-23T21:35:23.287212Z"
    }
   },
   "outputs": [
    {
     "name": "stdout",
     "output_type": "stream",
     "text": [
      "Enter a number :5\n",
      "Odd\n"
     ]
    }
   ],
   "source": [
    "num=int(input(\"Enter a number :\"))\n",
    "if num%2==0:\n",
    "    print(\"Even\")\n",
    "else:\n",
    "    print(\"Odd\")"
   ]
  },
  {
   "cell_type": "code",
   "execution_count": null,
   "id": "24616afc",
   "metadata": {},
   "outputs": [],
   "source": []
  },
  {
   "cell_type": "markdown",
   "id": "6ea0354c",
   "metadata": {},
   "source": [
    "### 3-Write a Python program that prints all the even numbers from 1 to 20 using a for loop"
   ]
  },
  {
   "cell_type": "code",
   "execution_count": 1,
   "id": "df43b7f5",
   "metadata": {
    "ExecuteTime": {
     "end_time": "2023-07-23T21:36:51.373589Z",
     "start_time": "2023-07-23T21:36:51.365580Z"
    }
   },
   "outputs": [
    {
     "name": "stdout",
     "output_type": "stream",
     "text": [
      "2 4 6 8 10 12 14 16 18 20 "
     ]
    }
   ],
   "source": [
    "for i in range(1,21):\n",
    "    if i%2==0:\n",
    "        print(i,end=\" \")"
   ]
  },
  {
   "cell_type": "code",
   "execution_count": null,
   "id": "cc16a5c2",
   "metadata": {
    "ExecuteTime": {
     "end_time": "2023-07-23T22:04:21.481350Z",
     "start_time": "2023-07-23T22:04:21.452242Z"
    }
   },
   "outputs": [],
   "source": []
  },
  {
   "cell_type": "code",
   "execution_count": null,
   "id": "7b7ee5e8",
   "metadata": {},
   "outputs": [],
   "source": []
  },
  {
   "cell_type": "markdown",
   "id": "2d66bab2",
   "metadata": {},
   "source": [
    "### 4-Write a Python function that takes a string as input and counts the number of vowels (a, e, i, o, u) in the string. The function should return the count"
   ]
  },
  {
   "cell_type": "code",
   "execution_count": 4,
   "id": "a37a84fd",
   "metadata": {
    "ExecuteTime": {
     "end_time": "2023-07-23T21:45:58.522044Z",
     "start_time": "2023-07-23T21:45:58.514370Z"
    }
   },
   "outputs": [
    {
     "name": "stdout",
     "output_type": "stream",
     "text": [
      "Enter a string :Ahmed\n",
      "2\n"
     ]
    }
   ],
   "source": [
    "def vowels (str):\n",
    "    vow=\"aieou\"\n",
    "    count=0\n",
    "    for i in str:\n",
    "        if i.lower() in vow:\n",
    "            count+=1\n",
    "    return count\n",
    "\n",
    "str=input(\"Enter a string :\")\n",
    "print(vowels(str))\n",
    "            "
   ]
  },
  {
   "cell_type": "code",
   "execution_count": null,
   "id": "2eb8e4de",
   "metadata": {
    "ExecuteTime": {
     "end_time": "2023-07-23T23:56:27.324204Z",
     "start_time": "2023-07-23T23:56:26.972092Z"
    }
   },
   "outputs": [],
   "source": []
  },
  {
   "cell_type": "code",
   "execution_count": null,
   "id": "24105679",
   "metadata": {
    "ExecuteTime": {
     "end_time": "2023-07-23T21:43:41.353283Z",
     "start_time": "2023-07-23T21:43:41.332496Z"
    }
   },
   "outputs": [],
   "source": []
  },
  {
   "cell_type": "markdown",
   "id": "a9a0ea06",
   "metadata": {},
   "source": [
    "### 5-Write a Python program that creates a list of numbers from 1 to 10. Use a loop to iterate over the list and print each number of power 2."
   ]
  },
  {
   "cell_type": "code",
   "execution_count": 12,
   "id": "6fa658cf",
   "metadata": {
    "ExecuteTime": {
     "end_time": "2023-07-23T21:48:02.328880Z",
     "start_time": "2023-07-23T21:48:02.314313Z"
    }
   },
   "outputs": [
    {
     "name": "stdout",
     "output_type": "stream",
     "text": [
      "1 4 9 16 25 36 49 64 81 100 "
     ]
    }
   ],
   "source": [
    "lista=list(range(1,11))\n",
    "for i in lista:\n",
    "    print(i**2,end=\" \")"
   ]
  },
  {
   "cell_type": "code",
   "execution_count": null,
   "id": "f0e52d30",
   "metadata": {
    "ExecuteTime": {
     "end_time": "2023-07-15T16:20:03.747408Z",
     "start_time": "2023-07-15T16:20:03.740547Z"
    }
   },
   "outputs": [],
   "source": []
  },
  {
   "cell_type": "markdown",
   "id": "430c9df9",
   "metadata": {},
   "source": [
    "### 6-Write a Python program that calculates the average grade for a student based on their scores in different subjects. The program should include the following steps:\n",
    "\n",
    "#### 1-Create variables to store the student's name, subject names, and corresponding scores. Initialize the variables with sample data.\n",
    "\n",
    "#### 2-Prompt the user to enter the student's name and assign it to the name variable.\n",
    "\n",
    "#### 3-Use a loop to prompt the user to enter the subject names and corresponding scores. Store the subject names in a list and the scores in another list.\n",
    "\n",
    "#### 4-After collecting the scores, calculate the average grade by summing up all the scores and dividing by the total number of subjects.\n",
    "\n",
    "#### 5-Check if the average grade is above a 70, print a congratulatory message. Otherwise, print an encouragement message."
   ]
  },
  {
   "cell_type": "code",
   "execution_count": 15,
   "id": "e0254271",
   "metadata": {
    "ExecuteTime": {
     "end_time": "2023-07-15T16:16:17.066909Z",
     "start_time": "2023-07-15T16:16:07.636799Z"
    }
   },
   "outputs": [
    {
     "name": "stdout",
     "output_type": "stream",
     "text": [
      "Enter the student name :Ahmed\n",
      "Enter the number of subjects :3\n",
      "Enter subject name :Math\n",
      "Enter subject score50\n",
      "Enter subject name :Arabic\n",
      "Enter subject score100\n",
      "Enter subject name :English\n",
      "Enter subject score70\n",
      "Congratulations, Ahmed\n"
     ]
    }
   ],
   "source": [
    "student_name=input(\"Enter the student name :\")\n",
    "n=int(input(\"Enter the number of subjects :\"))\n",
    "sub_name=[]\n",
    "scores=[]\n",
    "\n",
    "for i in range(n):\n",
    "    subject=input(\"Enter subject name :\")\n",
    "    score=int(input(\"Enter subject score\"))\n",
    "    sub_name.append(subject)\n",
    "    scores.append(score)\n",
    "    \n",
    "average=sum(scores)/len(scores)\n",
    "\n",
    "if average >=70:\n",
    "    print(f\"Congratulations, {student_name}\")\n",
    "else:\n",
    "    print(f\"You can do best {student_name}\")\n",
    "    \n",
    "    "
   ]
  },
  {
   "cell_type": "code",
   "execution_count": 13,
   "id": "37b3ff97",
   "metadata": {
    "ExecuteTime": {
     "end_time": "2023-07-23T21:56:24.493717Z",
     "start_time": "2023-07-23T21:56:17.227071Z"
    }
   },
   "outputs": [
    {
     "ename": "SyntaxError",
     "evalue": "invalid syntax (769466490.py, line 2)",
     "output_type": "error",
     "traceback": [
      "\u001b[1;36m  Input \u001b[1;32mIn [13]\u001b[1;36m\u001b[0m\n\u001b[1;33m    while str=input():\u001b[0m\n\u001b[1;37m             ^\u001b[0m\n\u001b[1;31mSyntaxError\u001b[0m\u001b[1;31m:\u001b[0m invalid syntax\n"
     ]
    }
   ],
   "source": []
  },
  {
   "cell_type": "markdown",
   "id": "ae9df360",
   "metadata": {},
   "source": [
    "### 7-Find Common Elements\n",
    "### Write a Python function that takes two lists as input and returns a new list containing the common elements present in both lists."
   ]
  },
  {
   "cell_type": "code",
   "execution_count": 17,
   "id": "d030c3c0",
   "metadata": {
    "ExecuteTime": {
     "end_time": "2023-07-23T22:08:16.794474Z",
     "start_time": "2023-07-23T22:08:16.775639Z"
    }
   },
   "outputs": [
    {
     "name": "stdout",
     "output_type": "stream",
     "text": [
      "[10, 20]\n"
     ]
    }
   ],
   "source": [
    "def common_elements (lista1,lista2):\n",
    "    new_list=[]\n",
    "    for i in lista1:\n",
    "        for j in lista2:\n",
    "            if i==j:\n",
    "                new_list.append(i)\n",
    "                break\n",
    "    return new_list\n",
    "lista1=[10,20,30]\n",
    "lista2=[5,6,7,10,20,40]\n",
    "print(common_elements(lista1,lista2))"
   ]
  },
  {
   "cell_type": "code",
   "execution_count": null,
   "id": "371369cd",
   "metadata": {
    "ExecuteTime": {
     "end_time": "2023-07-23T23:56:27.326200Z",
     "start_time": "2023-07-23T23:56:27.326200Z"
    }
   },
   "outputs": [],
   "source": []
  },
  {
   "cell_type": "markdown",
   "id": "9a2f34cb",
   "metadata": {},
   "source": [
    "### 8-Write a Python function that takes a list of numbers and an element to remove from the list. "
   ]
  },
  {
   "cell_type": "code",
   "execution_count": 21,
   "id": "78de9fe8",
   "metadata": {
    "ExecuteTime": {
     "end_time": "2023-07-23T22:21:36.514592Z",
     "start_time": "2023-07-23T22:21:36.505437Z"
    }
   },
   "outputs": [
    {
     "name": "stdout",
     "output_type": "stream",
     "text": [
      "The element is not in the list\n",
      "[1, 2, 3, 4, 5]\n"
     ]
    }
   ],
   "source": [
    "def fun(list1,element):\n",
    "    try:\n",
    "        list1.remove(element)\n",
    "        print(f\"Element {element} is removed \")\n",
    "        return list1\n",
    "    except(ValueError):\n",
    "        print(\"The element is not in the list\")\n",
    "        return list1\n",
    "\n",
    "list1=[1,2,3,4,5]\n",
    "print(fun(list1,6))\n",
    "    "
   ]
  },
  {
   "cell_type": "code",
   "execution_count": 19,
   "id": "d80aa813",
   "metadata": {
    "ExecuteTime": {
     "end_time": "2023-07-23T22:21:37.220121Z",
     "start_time": "2023-07-23T22:21:37.215586Z"
    }
   },
   "outputs": [
    {
     "ename": "ValueError",
     "evalue": "list.remove(x): x not in list",
     "output_type": "error",
     "traceback": [
      "\u001b[1;31m---------------------------------------------------------------------------\u001b[0m",
      "\u001b[1;31mValueError\u001b[0m                                Traceback (most recent call last)",
      "Input \u001b[1;32mIn [19]\u001b[0m, in \u001b[0;36m<cell line: 2>\u001b[1;34m()\u001b[0m\n\u001b[0;32m      1\u001b[0m list1\u001b[38;5;241m=\u001b[39m[\u001b[38;5;241m1\u001b[39m,\u001b[38;5;241m2\u001b[39m,\u001b[38;5;241m3\u001b[39m]\n\u001b[1;32m----> 2\u001b[0m \u001b[38;5;28mprint\u001b[39m(\u001b[43mlist1\u001b[49m\u001b[38;5;241;43m.\u001b[39;49m\u001b[43mremove\u001b[49m\u001b[43m(\u001b[49m\u001b[38;5;241;43m10\u001b[39;49m\u001b[43m)\u001b[49m)\n",
      "\u001b[1;31mValueError\u001b[0m: list.remove(x): x not in list"
     ]
    }
   ],
   "source": []
  },
  {
   "cell_type": "code",
   "execution_count": null,
   "id": "3feaf264",
   "metadata": {
    "ExecuteTime": {
     "end_time": "2023-07-23T22:21:38.480436Z",
     "start_time": "2023-07-23T22:21:38.464574Z"
    }
   },
   "outputs": [],
   "source": []
  },
  {
   "cell_type": "markdown",
   "id": "f1658f3b",
   "metadata": {
    "ExecuteTime": {
     "end_time": "2023-07-23T22:18:08.230185Z",
     "start_time": "2023-07-23T22:18:08.224220Z"
    }
   },
   "source": [
    "### 9-Given 4 numbers A, B, C and D. Print the last 2 digits from their Multiplication.\n",
    "### Example :\n",
    "### the Multiplication of 4 numbers is 5 * 7 * 2 * 4 = 280 so the answer will be the last 2 digits which are 80."
   ]
  },
  {
   "cell_type": "code",
   "execution_count": 23,
   "id": "e3acbe03",
   "metadata": {
    "ExecuteTime": {
     "end_time": "2023-07-23T22:26:11.183016Z",
     "start_time": "2023-07-23T22:26:03.981069Z"
    }
   },
   "outputs": [
    {
     "name": "stdout",
     "output_type": "stream",
     "text": [
      "Enter the first number :1\n",
      "Enter the second number :1\n",
      "Enter the third number :1\n",
      "Enter the fourth number :1\n",
      "The last two digits are 1\n"
     ]
    }
   ],
   "source": [
    "A=int(input(\"Enter the first number :\"))\n",
    "B=int(input(\"Enter the second number :\"))\n",
    "C=int(input(\"Enter the third number :\"))\n",
    "D=int(input(\"Enter the fourth number :\"))\n",
    "print(f\"The last two digits are {(A*B*C*D)%100}\")"
   ]
  },
  {
   "cell_type": "markdown",
   "id": "d7ab15bb",
   "metadata": {
    "ExecuteTime": {
     "end_time": "2023-07-23T22:26:14.833712Z",
     "start_time": "2023-07-23T22:26:14.819130Z"
    }
   },
   "source": [
    "### 10- Given a number X. Determine if the number is prime or not"
   ]
  },
  {
   "cell_type": "code",
   "execution_count": 29,
   "id": "59b27f0a",
   "metadata": {
    "ExecuteTime": {
     "end_time": "2023-07-23T22:35:25.933766Z",
     "start_time": "2023-07-23T22:35:24.168681Z"
    }
   },
   "outputs": [
    {
     "name": "stdout",
     "output_type": "stream",
     "text": [
      "Enter a number :1\n",
      "prime\n"
     ]
    }
   ],
   "source": [
    "num=int(input(\"Enter a number :\"))\n",
    "if num > 1:\n",
    "    for i in range(2,num):\n",
    "        if num%i==0:\n",
    "            print(\"Not prime\")\n",
    "            break\n",
    "    else:\n",
    "        print(\"Prime\")\n",
    "else:\n",
    "    print(\"prime\")"
   ]
  },
  {
   "cell_type": "code",
   "execution_count": null,
   "id": "03f6ff0e",
   "metadata": {},
   "outputs": [],
   "source": []
  },
  {
   "cell_type": "markdown",
   "id": "e1d1dcf9",
   "metadata": {},
   "source": [
    "### 11- Given a number N and a list A of N numbers. Determine if the number X exists in array A or not and print its position (0-index)."
   ]
  },
  {
   "cell_type": "code",
   "execution_count": 36,
   "id": "2b002b0e",
   "metadata": {
    "ExecuteTime": {
     "end_time": "2023-07-23T22:53:41.474835Z",
     "start_time": "2023-07-23T22:53:41.458293Z"
    }
   },
   "outputs": [
    {
     "name": "stdout",
     "output_type": "stream",
     "text": [
      "Enter the len of list5 \n",
      "Enter the numbers with spaces1 2 3 4 5\n",
      "Enter a number :5\n",
      "4\n"
     ]
    }
   ],
   "source": [
    "N=int(input(\"Enter the len of list\"))\n",
    "A=list(map(int,input(\"Enter the numbers with spaces\").split()))\n",
    "X=int(input(\"Enter a number :\"))\n",
    "if X in A :\n",
    "    print(A.index(X))\n",
    "else:\n",
    "    print(f\"Element {X} is not in the list\")"
   ]
  },
  {
   "cell_type": "markdown",
   "id": "f2ec854b",
   "metadata": {},
   "source": [
    "### 12- Given a number N and a list A of N numbers. Determine if the array is lucky or not.\n",
    "\n",
    "#### Note: the array is lucky if the frequency (number of occurrence) of the minimum element is odd."
   ]
  },
  {
   "cell_type": "code",
   "execution_count": 40,
   "id": "0c4f7f4b",
   "metadata": {
    "ExecuteTime": {
     "end_time": "2023-07-23T23:02:02.490192Z",
     "start_time": "2023-07-23T23:02:02.476874Z"
    }
   },
   "outputs": [
    {
     "name": "stdout",
     "output_type": "stream",
     "text": [
      "Enter the len of list6\n",
      "Enter a number1\n",
      "Enter a number2\n",
      "Enter a number3\n",
      "Enter a number4\n",
      "Enter a number5\n",
      "Enter a number6\n",
      "The array is lucky\n"
     ]
    }
   ],
   "source": [
    "N=int(input(\"Enter the len of list\"))\n",
    "A=[]\n",
    "for i in range(N):\n",
    "    x=int(input(\"Enter a number\"))\n",
    "    A.append(x)\n",
    "num=min(A)\n",
    "if A.count(num)%2!=0:\n",
    "    print(\"The array is lucky\")\n",
    "else:\n",
    "    print(\"Array is not lucky\")"
   ]
  },
  {
   "cell_type": "markdown",
   "id": "e1ce1ae5",
   "metadata": {},
   "source": [
    "### 13-Given a number N and a list A of N numbers. Print the array after doing the following operations:\n",
    "\n",
    "#### Find minimum number in these numbers.\n",
    "#### Find maximum number in these numbers.\n",
    "##### Swap minimum number with maximum number."
   ]
  },
  {
   "cell_type": "code",
   "execution_count": 41,
   "id": "e0d6e639",
   "metadata": {
    "ExecuteTime": {
     "end_time": "2023-07-23T23:10:04.293733Z",
     "start_time": "2023-07-23T23:10:04.280256Z"
    }
   },
   "outputs": [
    {
     "name": "stdout",
     "output_type": "stream",
     "text": [
      "Enter the len of list : 6\n",
      "Enter a number: 2\n",
      "Enter a number: 5\n",
      "Enter a number: 8\n",
      "Enter a number: 7\n",
      "Enter a number: 6\n",
      "Enter a number: 10\n",
      "[10, 5, 8, 7, 6, 2]\n"
     ]
    }
   ],
   "source": [
    "N=int(input(\"Enter the len of list : \"))\n",
    "A=[]\n",
    "for i in range(N):\n",
    "    x=int(input(\"Enter a number: \"))\n",
    "    A.append(x)\n",
    "index_max=A.index(max(A))\n",
    "index_min=A.index(min(A))\n",
    "A[index_max],A[index_min]=A[index_min],A[index_max]\n",
    "print(A)"
   ]
  },
  {
   "cell_type": "code",
   "execution_count": null,
   "id": "20165184",
   "metadata": {
    "ExecuteTime": {
     "end_time": "2023-07-23T23:10:04.651957Z",
     "start_time": "2023-07-23T23:10:04.648955Z"
    }
   },
   "outputs": [],
   "source": []
  },
  {
   "cell_type": "code",
   "execution_count": null,
   "id": "4e5ac998",
   "metadata": {
    "ExecuteTime": {
     "end_time": "2023-07-23T23:56:27.327202Z",
     "start_time": "2023-07-23T23:56:27.327202Z"
    }
   },
   "outputs": [],
   "source": []
  },
  {
   "cell_type": "markdown",
   "id": "9eb8e9c5",
   "metadata": {
    "ExecuteTime": {
     "end_time": "2023-07-23T23:10:06.436833Z",
     "start_time": "2023-07-23T23:10:06.422086Z"
    }
   },
   "source": [
    "### 14-Given a number N and an array A of N numbers. Print the lowest number and its position.\n",
    "\n",
    "### Note: if there are more than one answer print first one's position."
   ]
  },
  {
   "cell_type": "code",
   "execution_count": 43,
   "id": "018e01c8",
   "metadata": {
    "ExecuteTime": {
     "end_time": "2023-07-23T23:20:38.498527Z",
     "start_time": "2023-07-23T23:20:38.490451Z"
    }
   },
   "outputs": [
    {
     "name": "stdout",
     "output_type": "stream",
     "text": [
      "Enter the len of list : 6\n",
      "Enter a number: 1\n",
      "Enter a number: 5\n",
      "Enter a number: 6\n",
      "Enter a number: 1\n",
      "Enter a number: 2\n",
      "Enter a number: 8\n",
      "The lowest number in the list is 1 and its index is 0\n"
     ]
    }
   ],
   "source": [
    "N=int(input(\"Enter the len of list : \"))\n",
    "A=[]\n",
    "for i in range(N):\n",
    "    x=int(input(\"Enter a number: \"))\n",
    "    A.append(x)\n",
    "\n",
    "print(f\"The lowest number in the list is {min(A)} and its index is {A.index(min(A))}\")"
   ]
  },
  {
   "cell_type": "code",
   "execution_count": null,
   "id": "477554c7",
   "metadata": {
    "ExecuteTime": {
     "end_time": "2023-07-23T23:20:55.126958Z",
     "start_time": "2023-07-23T23:20:55.120450Z"
    }
   },
   "outputs": [],
   "source": []
  },
  {
   "cell_type": "code",
   "execution_count": null,
   "id": "27e032e4",
   "metadata": {
    "ExecuteTime": {
     "end_time": "2023-07-23T23:20:55.425024Z",
     "start_time": "2023-07-23T23:20:55.407711Z"
    }
   },
   "outputs": [],
   "source": []
  },
  {
   "cell_type": "markdown",
   "id": "f35d3427",
   "metadata": {
    "ExecuteTime": {
     "end_time": "2023-07-23T23:20:55.880128Z",
     "start_time": "2023-07-23T23:20:55.861804Z"
    }
   },
   "source": [
    "### 15-Given a number N and an array A of N numbers. Print the numbers after sorting them"
   ]
  },
  {
   "cell_type": "code",
   "execution_count": 44,
   "id": "a6e0edd4",
   "metadata": {
    "ExecuteTime": {
     "end_time": "2023-07-23T23:46:13.340484Z",
     "start_time": "2023-07-23T23:46:13.324468Z"
    }
   },
   "outputs": [
    {
     "name": "stdout",
     "output_type": "stream",
     "text": [
      "Enter the len of list : 6\n",
      "Enter a number: 1\n",
      "Enter a number: 5\n",
      "Enter a number: 6\n",
      "Enter a number: 1\n",
      "Enter a number: 2\n",
      "Enter a number: 8\n",
      "[1, 1, 2, 5, 6, 8]\n"
     ]
    }
   ],
   "source": [
    "N=int(input(\"Enter the len of list : \"))\n",
    "A=[]\n",
    "for i in range(N):\n",
    "    x=int(input(\"Enter a number: \"))\n",
    "    A.append(x)\n",
    "print(sorted(A))"
   ]
  },
  {
   "cell_type": "code",
   "execution_count": null,
   "id": "38100d74",
   "metadata": {
    "ExecuteTime": {
     "end_time": "2023-07-23T23:46:14.343960Z",
     "start_time": "2023-07-23T23:46:14.325805Z"
    }
   },
   "outputs": [],
   "source": []
  },
  {
   "cell_type": "markdown",
   "id": "a172f354",
   "metadata": {
    "ExecuteTime": {
     "end_time": "2023-07-23T23:46:15.127981Z",
     "start_time": "2023-07-23T23:46:15.108766Z"
    }
   },
   "source": [
    "### 16- Write a Python program to remove spaces from a given string"
   ]
  },
  {
   "cell_type": "code",
   "execution_count": 47,
   "id": "36d3569d",
   "metadata": {
    "ExecuteTime": {
     "end_time": "2023-07-23T23:50:06.443640Z",
     "start_time": "2023-07-23T23:50:01.592919Z"
    }
   },
   "outputs": [
    {
     "name": "stdout",
     "output_type": "stream",
     "text": [
      "Enter a string :a hmed\n",
      "ahmed\n"
     ]
    }
   ],
   "source": [
    "def remove_space (str):\n",
    "    return str.replace(\" \",\"\")\n",
    "str = input(\"Enter a string :\")\n",
    "print(remove_space(str))\n"
   ]
  },
  {
   "cell_type": "markdown",
   "id": "a5470d49",
   "metadata": {},
   "source": [
    "### 17-write a Python program to swap first and last element of any list."
   ]
  },
  {
   "cell_type": "code",
   "execution_count": 48,
   "id": "9d73887b",
   "metadata": {
    "ExecuteTime": {
     "end_time": "2023-07-23T23:50:59.283429Z",
     "start_time": "2023-07-23T23:50:59.272096Z"
    }
   },
   "outputs": [
    {
     "name": "stdout",
     "output_type": "stream",
     "text": [
      "Enter a numbers with spaces :6 5 4 3 2\n",
      "[2, 5, 4, 3, 6]\n"
     ]
    }
   ],
   "source": [
    "def swap_list (list1):\n",
    "    list1[0],list1[-1]=list1[-1],list1[0]\n",
    "    return list1\n",
    "list1 = list(map(int , input(\"Enter a numbers with spaces :\").split()))\n",
    "print(swap_list(list1))"
   ]
  },
  {
   "cell_type": "code",
   "execution_count": null,
   "id": "faa49913",
   "metadata": {
    "ExecuteTime": {
     "end_time": "2023-07-23T23:51:31.917164Z",
     "start_time": "2023-07-23T23:51:31.900550Z"
    }
   },
   "outputs": [],
   "source": []
  },
  {
   "cell_type": "markdown",
   "id": "1ae6cf8e",
   "metadata": {
    "ExecuteTime": {
     "end_time": "2023-07-23T23:51:34.302184Z",
     "start_time": "2023-07-23T23:51:34.285461Z"
    }
   },
   "source": [
    "### 18- Write a Python program to add member(s) to a set."
   ]
  },
  {
   "cell_type": "code",
   "execution_count": 50,
   "id": "3e905e5b",
   "metadata": {},
   "outputs": [
    {
     "name": "stdout",
     "output_type": "stream",
     "text": [
      "add a single element to a set:\n",
      "add a multiple elements to a set:\n",
      "{10, 2, 20}\n"
     ]
    }
   ],
   "source": [
    "num_set=set()\n",
    "print(\"add a single element to a set:\")\n",
    "num_set.add(10)\n",
    "print(\"add a multiple elements to a set:\")\n",
    "num_set.update([20,2])\n",
    "print(num_set)"
   ]
  },
  {
   "cell_type": "code",
   "execution_count": null,
   "id": "341c3d16",
   "metadata": {},
   "outputs": [],
   "source": []
  },
  {
   "cell_type": "markdown",
   "id": "db811fec",
   "metadata": {},
   "source": [
    "### 19-Write a Python program to remove an item from a set if it is present in the set"
   ]
  },
  {
   "cell_type": "code",
   "execution_count": 56,
   "id": "daa40ca6",
   "metadata": {},
   "outputs": [
    {
     "name": "stdout",
     "output_type": "stream",
     "text": [
      "{1, 2, 3, 4, 5, 6}\n"
     ]
    }
   ],
   "source": [
    "def remove (num_set,num):\n",
    "        num_set.discard(num)\n",
    "        return num_set\n",
    "num_set=set([1,2,3,4,5,6])\n",
    "print(remove(num_set,20))\n",
    "    "
   ]
  },
  {
   "cell_type": "markdown",
   "id": "240c9bde",
   "metadata": {},
   "source": [
    "### 20-Write a Python program to get the maximum and minimum values of a dictionary values"
   ]
  },
  {
   "cell_type": "code",
   "execution_count": 57,
   "id": "4b767f24",
   "metadata": {
    "ExecuteTime": {
     "end_time": "2023-07-23T23:56:35.117528Z",
     "start_time": "2023-07-23T23:56:35.105969Z"
    }
   },
   "outputs": [
    {
     "name": "stdout",
     "output_type": "stream",
     "text": [
      "The max value in the dictionary is 50 and the min value in the dictionary is 10\n"
     ]
    }
   ],
   "source": [
    "d={\"first\":10,\"second\":20,\"third\":30,\"ahmed\":50}\n",
    "print(f\"The max value in the dictionary is {max(d.values())} and the min value in the dictionary is {min(d.values())}\")"
   ]
  },
  {
   "cell_type": "code",
   "execution_count": null,
   "id": "24423e73",
   "metadata": {
    "ExecuteTime": {
     "end_time": "2023-07-23T23:56:35.677287Z",
     "start_time": "2023-07-23T23:56:35.661315Z"
    }
   },
   "outputs": [],
   "source": []
  },
  {
   "cell_type": "code",
   "execution_count": null,
   "id": "7ae7d263",
   "metadata": {
    "ExecuteTime": {
     "end_time": "2023-07-23T23:56:37.430631Z",
     "start_time": "2023-07-23T23:56:37.425625Z"
    }
   },
   "outputs": [],
   "source": []
  },
  {
   "cell_type": "markdown",
   "id": "f1d3a246",
   "metadata": {},
   "source": [
    "### 21-Write a Python program to drop empty items from a given dictionary.Original Dictionary:{'c1': 'Red', 'c2': 'Green', 'c3': None}New Dictionary after dropping empty items:{'c1': 'Red', 'c2': 'Green'}"
   ]
  },
  {
   "cell_type": "code",
   "execution_count": 58,
   "id": "7c2a5807",
   "metadata": {},
   "outputs": [
    {
     "name": "stdout",
     "output_type": "stream",
     "text": [
      "{'c1': 'Red', 'c2': 'Green'}\n"
     ]
    }
   ],
   "source": [
    "d={'c1': 'Red', 'c2': 'Green', 'c3': None}\n",
    "for i,j in d.items():\n",
    "    if j==None:\n",
    "        del d[i]\n",
    "        break\n",
    "print(d)"
   ]
  },
  {
   "cell_type": "code",
   "execution_count": null,
   "id": "0cf5d452",
   "metadata": {},
   "outputs": [],
   "source": []
  }
 ],
 "metadata": {
  "kernelspec": {
   "display_name": "Python 3 (ipykernel)",
   "language": "python",
   "name": "python3"
  },
  "language_info": {
   "codemirror_mode": {
    "name": "ipython",
    "version": 3
   },
   "file_extension": ".py",
   "mimetype": "text/x-python",
   "name": "python",
   "nbconvert_exporter": "python",
   "pygments_lexer": "ipython3",
   "version": "3.9.12"
  }
 },
 "nbformat": 4,
 "nbformat_minor": 5
}
